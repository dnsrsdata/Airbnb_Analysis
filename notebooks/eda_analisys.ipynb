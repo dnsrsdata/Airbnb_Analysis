{
 "cells": [
  {
   "cell_type": "markdown",
   "metadata": {},
   "source": [
    "### Importing the data and libraries"
   ]
  },
  {
   "cell_type": "code",
   "execution_count": null,
   "metadata": {},
   "outputs": [],
   "source": [
    "# Importing the libraries\n",
    "import folium\n",
    "from folium.plugins import HeatMap\n",
    "import matplotlib.pyplot as plt\n",
    "import pandas as pd\n",
    "import seaborn as sns\n",
    "import statistics\n",
    "from wordcloud import WordCloud, STOPWORDS"
   ]
  },
  {
   "cell_type": "code",
   "execution_count": null,
   "metadata": {},
   "outputs": [],
   "source": [
    "# Importing the data\n",
    "df_calendario = pd.read_csv('../data/calendar.csv')\n",
    "df_listin = pd.read_csv('../data/listings.csv')\n",
    "df_reviews = pd.read_csv('../data/reviews.csv')"
   ]
  },
  {
   "cell_type": "markdown",
   "metadata": {},
   "source": [
    "### Data Understanding"
   ]
  },
  {
   "cell_type": "code",
   "execution_count": null,
   "metadata": {},
   "outputs": [],
   "source": [
    "# Checking the shape of dataframes\n",
    "print(df_calendario.shape)\n",
    "print(df_listin.shape)\n",
    "print(df_reviews.shape)"
   ]
  },
  {
   "cell_type": "code",
   "execution_count": null,
   "metadata": {},
   "outputs": [],
   "source": [
    "# Checking the values\n",
    "df_calendario.head()"
   ]
  },
  {
   "cell_type": "code",
   "execution_count": null,
   "metadata": {},
   "outputs": [],
   "source": [
    "# Checking the values\n",
    "df_listin.head()"
   ]
  },
  {
   "cell_type": "code",
   "execution_count": null,
   "metadata": {},
   "outputs": [],
   "source": [
    "# Checking the values\n",
    "df_reviews.head()"
   ]
  },
  {
   "cell_type": "code",
   "execution_count": null,
   "metadata": {},
   "outputs": [],
   "source": [
    "# Checking the values\n",
    "df_calendario.date.describe"
   ]
  },
  {
   "cell_type": "code",
   "execution_count": null,
   "metadata": {},
   "outputs": [],
   "source": [
    "# Checking the columns\n",
    "df_listin.columns"
   ]
  },
  {
   "cell_type": "markdown",
   "metadata": {},
   "source": [
    "- <b>df_calendario:</b> In this dataset we have future dates, showing which days the place will be available for rent and which days it is already booked until the date of 2023-09-20. Together, we also have some features, such as the minimum and maximum number of days to rent and the rent amount.\n",
    "\n",
    "- <b>df_listin:</b> In this dataset we have information about the places, such as number of rooms, average grade, location, neighborhood and information that is also in the df_calendario.\n",
    "\n",
    "- <b>df_review:</b> In this dataset we have reviews from people who have already rented the place."
   ]
  },
  {
   "cell_type": "markdown",
   "metadata": {},
   "source": [
    "From this, some questions arise:\n",
    "\n",
    "- Which areas of Rio de Janeiro have the highest ratings?\n",
    "\n",
    "- What are the most common words in reviews?\n",
    "\n",
    "- How is the vacancy situation for the year 2023, are there already many rental reservations or not? On which days?"
   ]
  },
  {
   "cell_type": "markdown",
   "metadata": {},
   "source": [
    "### EDA"
   ]
  },
  {
   "cell_type": "markdown",
   "metadata": {},
   "source": [
    "#### 1. Which areas of Rio de Janeiro have the highest ratings?"
   ]
  },
  {
   "cell_type": "code",
   "execution_count": null,
   "metadata": {},
   "outputs": [],
   "source": [
    "# Getting center coordinates\n",
    "rj_coordinates = (df_listin.latitude.mean(), df_listin.longitude.mean())"
   ]
  },
  {
   "cell_type": "code",
   "execution_count": null,
   "metadata": {},
   "outputs": [],
   "source": [
    "# Creating the map\n",
    "map_rj = folium.Map(location=rj_coordinates, zoom_start=10)"
   ]
  },
  {
   "cell_type": "code",
   "execution_count": null,
   "metadata": {},
   "outputs": [],
   "source": [
    "# Shading the areas\n",
    "heatmap = HeatMap(data=df_listin[['latitude', 'longitude', 'review_scores_rating']].groupby(['latitude', 'longitude']).mean().dropna().reset_index().values.tolist(), radius=11, max_zoom=13)\n",
    "heatmap.add_to(map_rj)"
   ]
  },
  {
   "cell_type": "code",
   "execution_count": null,
   "metadata": {},
   "outputs": [],
   "source": [
    "# Checking the final result\n",
    "map_rj"
   ]
  },
  {
   "cell_type": "code",
   "execution_count": null,
   "metadata": {},
   "outputs": [],
   "source": [
    "# Saving the map\n",
    "map_rj.save('../rj_heatmap.html')"
   ]
  },
  {
   "cell_type": "markdown",
   "metadata": {},
   "source": [
    "- The waterfront area usually has better scores than places farther from the beach."
   ]
  },
  {
   "cell_type": "markdown",
   "metadata": {},
   "source": [
    "#### 2. What are the most common words in reviews?"
   ]
  },
  {
   "cell_type": "code",
   "execution_count": null,
   "metadata": {},
   "outputs": [],
   "source": [
    "# Checking for missing values\n",
    "df_reviews.isna().sum()"
   ]
  },
  {
   "cell_type": "code",
   "execution_count": null,
   "metadata": {},
   "outputs": [],
   "source": [
    "# Dropping the missing values\n",
    "df_review_droppedNan = df_reviews.dropna()"
   ]
  },
  {
   "cell_type": "code",
   "execution_count": null,
   "metadata": {},
   "outputs": [],
   "source": [
    "# Putting together the words of the reviews\n",
    "summary = \" \".join(s for s in df_review_droppedNan.comments)"
   ]
  },
  {
   "cell_type": "code",
   "execution_count": null,
   "metadata": {},
   "outputs": [],
   "source": [
    "# Creating a set of words that will be excluded\n",
    "stopwords = set(STOPWORDS)\n",
    "stopwords.update([\"da\", \"meu\", \"em\", \"você\", \"de\", \"ao\", \"os\", \"é\", 'br'])"
   ]
  },
  {
   "cell_type": "code",
   "execution_count": null,
   "metadata": {},
   "outputs": [],
   "source": [
    "# Creating the word cloud\n",
    "img_wordcloud = WordCloud(stopwords=stopwords,\n",
    "                          background_color='black',\n",
    "                          width=1600,\n",
    "                          height=800).generate(summary)"
   ]
  },
  {
   "cell_type": "code",
   "execution_count": null,
   "metadata": {},
   "outputs": [],
   "source": [
    "# Plotting the word cloud\n",
    "fig, ax = plt.subplots(figsize=(10,6))\n",
    "ax.imshow(img_wordcloud, interpolation='bilinear')\n",
    "ax.set_axis_off()\n",
    "\n",
    "plt.imshow(img_wordcloud)"
   ]
  },
  {
   "cell_type": "markdown",
   "metadata": {},
   "source": [
    "From this word cloud we can see the following things from the reviews:\n",
    "\n",
    "- Natives from countries that speak Portuguese, English or Spanish are common.\n",
    "- The cleanliness and organization of the properties are usually praised.\n",
    "- The location is also often praised, perhaps related to the beach and the view, which also appear in the word cloud."
   ]
  },
  {
   "cell_type": "markdown",
   "metadata": {},
   "source": [
    "#### 3. How is the vacancy situation for the year 2023, are there already many rental reservations or not? On which months?"
   ]
  },
  {
   "cell_type": "code",
   "execution_count": null,
   "metadata": {},
   "outputs": [],
   "source": [
    "# Checking the info about the dataframe\n",
    "df_calendario.info()"
   ]
  },
  {
   "cell_type": "code",
   "execution_count": null,
   "metadata": {},
   "outputs": [],
   "source": [
    "# Changing the data type\n",
    "df_calendario['date'] = pd.to_datetime(df_calendario.date)"
   ]
  },
  {
   "cell_type": "code",
   "execution_count": null,
   "metadata": {},
   "outputs": [],
   "source": [
    "# Selecting data for 2023\n",
    "df_2023 = df_calendario[df_calendario.date.dt.year == 2023]"
   ]
  },
  {
   "cell_type": "code",
   "execution_count": null,
   "metadata": {},
   "outputs": [],
   "source": [
    "# Checking the min\n",
    "df_2023.date.min()"
   ]
  },
  {
   "cell_type": "code",
   "execution_count": null,
   "metadata": {},
   "outputs": [],
   "source": [
    "# Checking the max\n",
    "df_2023.date.max()"
   ]
  },
  {
   "cell_type": "code",
   "execution_count": null,
   "metadata": {},
   "outputs": [],
   "source": [
    "# Grouping data\n",
    "df_aval_2023 = df_2023.groupby('listing_id').available.value_counts().to_frame()\n",
    "df_aval_2023.rename(columns={'available':'days'}, inplace = True)\n",
    "df_aval_2023.reset_index(inplace=True)"
   ]
  },
  {
   "cell_type": "code",
   "execution_count": null,
   "metadata": {},
   "outputs": [],
   "source": [
    "# Checking the shape of unavailable places\n",
    "df_aval_2023[df_aval_2023.available == 'f'].shape[0]"
   ]
  },
  {
   "cell_type": "markdown",
   "metadata": {},
   "source": [
    "- January to October has 273 days.\n",
    "- For at least 1 day, 19251 different appointments have already been made for the year 2023."
   ]
  },
  {
   "cell_type": "code",
   "execution_count": null,
   "metadata": {},
   "outputs": [],
   "source": [
    "# Copying the dataset\n",
    "df_2023_day = df_2023"
   ]
  },
  {
   "cell_type": "code",
   "execution_count": null,
   "metadata": {},
   "outputs": [],
   "source": [
    "# Adding a new variable\n",
    "df_2023_day['day'] = df_2023_day.date.dt.day"
   ]
  },
  {
   "cell_type": "code",
   "execution_count": null,
   "metadata": {},
   "outputs": [],
   "source": [
    "# Grouping the data\n",
    "df_t = df_2023.groupby([df_2023.date]).available.value_counts().to_frame()\n",
    "df_t = df_t.rename(columns={'available':'qtd'})\n",
    "df_t.reset_index(inplace=True)"
   ]
  },
  {
   "cell_type": "code",
   "execution_count": null,
   "metadata": {},
   "outputs": [],
   "source": [
    "# Plotting a graph\n",
    "sns.lineplot(data = df_t, x = 'date', y = 'qtd', hue = 'available')\n",
    "plt.xticks(rotation = 90)\n",
    "plt.title('Availability of locations by month')"
   ]
  },
  {
   "cell_type": "markdown",
   "metadata": {},
   "source": [
    "- At the beginning of January, we can see that there is a drop in bookings, most likely because a lot of people go to Rio de Janeiro to celebrate the new year.\n",
    "- There is another sharp increase in bookings between February and March, which must be due to Carnival.\n",
    "- There is another increase between the end of March and the beginning of April, which is when the festivities of All Saints in Brazil begin and also when Cold Play shows will take place, on the 25th, 26th and 28th of March."
   ]
  },
  {
   "cell_type": "code",
   "execution_count": null,
   "metadata": {},
   "outputs": [],
   "source": []
  }
 ],
 "metadata": {
  "kernelspec": {
   "display_name": "Python 3.9.13 ('venv': venv)",
   "language": "python",
   "name": "python3"
  },
  "language_info": {
   "codemirror_mode": {
    "name": "ipython",
    "version": 3
   },
   "file_extension": ".py",
   "mimetype": "text/x-python",
   "name": "python",
   "nbconvert_exporter": "python",
   "pygments_lexer": "ipython3",
   "version": "3.9.13"
  },
  "orig_nbformat": 4,
  "vscode": {
   "interpreter": {
    "hash": "b99d7c481edf2de90361860fb8b90ee61e4f5cb6c0f9622968d96bd486d20f25"
   }
  }
 },
 "nbformat": 4,
 "nbformat_minor": 2
}
